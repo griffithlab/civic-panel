{
 "cells": [
  {
   "cell_type": "markdown",
   "metadata": {},
   "source": [
    "# Obtain Probes for Selected Variants"
   ]
  },
  {
   "cell_type": "markdown",
   "metadata": {},
   "source": [
    "Welcome to OpenCAP Jupyter Notebooks! Here you can run pre-designed code to generate required documents for custom capture panels. \n",
    "\n",
    "To run a Jupyter notebook cell hold-down on \"shift\" and select \"enter\".\n",
    "\n"
   ]
  },
  {
   "cell_type": "markdown",
   "metadata": {},
   "source": [
    "## Commands to generate probes"
   ]
  },
  {
   "cell_type": "markdown",
   "metadata": {},
   "source": [
    "We have created a python script called CIViC_variants_to_probes.py that will take in variants of interest generated from the CIViC website and turn them into a list of genomic coordinates that require capture. The output from this command can be provided to a commercial entittiy that generate probes for custom capture such as Twist, IDT, etc. "
   ]
  },
  {
   "cell_type": "markdown",
   "metadata": {},
   "source": [
    "Below are the inputs for the provided code. They direct the code to the CIViC variant list that was previously generated and the output directory where the final probe list will be created. We have provided paths to the desktop but these can be altered in the cell below:"
   ]
  },
  {
   "cell_type": "code",
   "execution_count": 1,
   "metadata": {
    "collapsed": true
   },
   "outputs": [],
   "source": [
    "import sys\n",
    "import pandas as pd\n",
    "import requests\n",
    "import pybedtools\n",
    "from pybedtools import BedTool\n",
    "from pybiomart import Server"
   ]
  },
  {
   "cell_type": "code",
   "execution_count": 2,
   "metadata": {
    "collapsed": true
   },
   "outputs": [],
   "source": [
    "#run command  python code             #input variant list                    #output directory\n",
    "%run -i 'CIViC_variants_to_probes.py' 'test_variants.tsv' '~/Desktop/'"
   ]
  },
  {
   "cell_type": "code",
   "execution_count": null,
   "metadata": {
    "collapsed": true
   },
   "outputs": [],
   "source": []
  }
 ],
 "metadata": {
  "kernelspec": {
   "display_name": "Python 3",
   "language": "python",
   "name": "python3"
  },
  "language_info": {
   "codemirror_mode": {
    "name": "ipython",
    "version": 3
   },
   "file_extension": ".py",
   "mimetype": "text/x-python",
   "name": "python",
   "nbconvert_exporter": "python",
   "pygments_lexer": "ipython3",
   "version": "3.6.1"
  }
 },
 "nbformat": 4,
 "nbformat_minor": 2
}
