{
 "cells": [
  {
   "cell_type": "markdown",
   "metadata": {},
   "source": [
    "# Obtain Probes for Selected Variants"
   ]
  },
  {
   "cell_type": "markdown",
   "metadata": {},
   "source": [
    "Welcome to OpenCAP Jupyter Notebooks! Here you can run pre-designed code to generate required documents for custom capture panels. \n",
    "\n",
    "To run a Jupyter notebook cell hold-down on \"shift\" and select \"enter\".\n",
    "\n"
   ]
  },
  {
   "cell_type": "code",
   "execution_count": null,
   "metadata": {
    "collapsed": true
   },
   "outputs": [],
   "source": [
    "# Select this cell --> hold down \"shift\"  --> \"press enter\"\n",
    "# from __future__ import print_function\n",
    "# from ipywidgets import interact, interactive, fixed, interact_manual\n",
    "# import ipywidgets as widgets"
   ]
  },
  {
   "cell_type": "markdown",
   "metadata": {},
   "source": [
    "## Commands to generate probes"
   ]
  },
  {
   "cell_type": "markdown",
   "metadata": {},
   "source": [
    "We have created a python script called CIViC_variants_to_probes.py that will take in variants of interest generated from the CIViC website and turn them into a list of genomic coordinates that require capture. The output from this command can be provided to a commercial entittiy that generate probes for custom capture such as Twist, IDT, etc. "
   ]
  },
  {
   "cell_type": "markdown",
   "metadata": {},
   "source": [
    "Below are the inputs for the provided code. They direct the code to the CIViC variant list that was previously generated and the output directory where the final probe list will be created. We have provided paths to the desktop but these can be altered in the cell below:"
   ]
  },
  {
   "cell_type": "code",
   "execution_count": 123,
   "metadata": {},
   "outputs": [],
   "source": [
    "#run command  python code             #input variant list                    #output directory\n",
    "%run -i 'CIViC_variants_to_probes.py' '/Users/ebarnell/Desktop/variants.tsv' '~/Desktop/'"
   ]
  },
  {
   "cell_type": "markdown",
   "metadata": {},
   "source": [
    "# TEST"
   ]
  },
  {
   "cell_type": "code",
   "execution_count": 54,
   "metadata": {
    "collapsed": true
   },
   "outputs": [],
   "source": [
    "import sys\n",
    "import pandas as pd\n",
    "import requests\n",
    "import pybedtools\n",
    "from pybedtools import BedTool\n",
    "from pybiomart import Server"
   ]
  },
  {
   "cell_type": "code",
   "execution_count": 109,
   "metadata": {
    "collapsed": true
   },
   "outputs": [],
   "source": [
    "server = Server(host='grch37.ensembl.org')\n",
    "dataset = (server.marts['ENSEMBL_MART_ENSEMBL'].datasets['hsapiens_gene_ensembl'])"
   ]
  },
  {
   "cell_type": "code",
   "execution_count": 110,
   "metadata": {
    "collapsed": true
   },
   "outputs": [],
   "source": [
    "all_exons = pd.DataFrame(dataset.query(attributes=['chromosome_name','genomic_coding_start','genomic_coding_end'], filters={'link_ensembl_gene_id': ['ENSG00000141510']})).dropna()\n",
    "all_exons = all_exons.sort_values(by=['Genomic coding start'])"
   ]
  },
  {
   "cell_type": "code",
   "execution_count": 111,
   "metadata": {},
   "outputs": [],
   "source": [
    "all_exons['Genomic coding start'] = all_exons['Genomic coding start'].astype(int)\n",
    "all_exons['Genomic coding end'] = all_exons['Genomic coding end'].astype(int)"
   ]
  },
  {
   "cell_type": "code",
   "execution_count": 113,
   "metadata": {},
   "outputs": [],
   "source": [
    "merged_exons = pybedtools.BedTool.from_dataframe(all_exons).merge().to_dataframe()"
   ]
  },
  {
   "cell_type": "code",
   "execution_count": 114,
   "metadata": {},
   "outputs": [
    {
     "data": {
      "text/html": [
       "<div>\n",
       "<style>\n",
       "    .dataframe thead tr:only-child th {\n",
       "        text-align: right;\n",
       "    }\n",
       "\n",
       "    .dataframe thead th {\n",
       "        text-align: left;\n",
       "    }\n",
       "\n",
       "    .dataframe tbody tr th {\n",
       "        vertical-align: top;\n",
       "    }\n",
       "</style>\n",
       "<table border=\"1\" class=\"dataframe\">\n",
       "  <thead>\n",
       "    <tr style=\"text-align: right;\">\n",
       "      <th></th>\n",
       "      <th>chrom</th>\n",
       "      <th>start</th>\n",
       "      <th>end</th>\n",
       "    </tr>\n",
       "  </thead>\n",
       "  <tbody>\n",
       "    <tr>\n",
       "      <th>0</th>\n",
       "      <td>17</td>\n",
       "      <td>7565257</td>\n",
       "      <td>7565332</td>\n",
       "    </tr>\n",
       "    <tr>\n",
       "      <th>1</th>\n",
       "      <td>17</td>\n",
       "      <td>7569524</td>\n",
       "      <td>7569562</td>\n",
       "    </tr>\n",
       "    <tr>\n",
       "      <th>2</th>\n",
       "      <td>17</td>\n",
       "      <td>7572927</td>\n",
       "      <td>7573008</td>\n",
       "    </tr>\n",
       "    <tr>\n",
       "      <th>3</th>\n",
       "      <td>17</td>\n",
       "      <td>7573927</td>\n",
       "      <td>7574033</td>\n",
       "    </tr>\n",
       "    <tr>\n",
       "      <th>4</th>\n",
       "      <td>17</td>\n",
       "      <td>7576537</td>\n",
       "      <td>7576584</td>\n",
       "    </tr>\n",
       "    <tr>\n",
       "      <th>5</th>\n",
       "      <td>17</td>\n",
       "      <td>7576625</td>\n",
       "      <td>7576657</td>\n",
       "    </tr>\n",
       "    <tr>\n",
       "      <th>6</th>\n",
       "      <td>17</td>\n",
       "      <td>7576853</td>\n",
       "      <td>7576926</td>\n",
       "    </tr>\n",
       "    <tr>\n",
       "      <th>7</th>\n",
       "      <td>17</td>\n",
       "      <td>7577019</td>\n",
       "      <td>7577155</td>\n",
       "    </tr>\n",
       "    <tr>\n",
       "      <th>8</th>\n",
       "      <td>17</td>\n",
       "      <td>7577499</td>\n",
       "      <td>7577608</td>\n",
       "    </tr>\n",
       "    <tr>\n",
       "      <th>9</th>\n",
       "      <td>17</td>\n",
       "      <td>7578177</td>\n",
       "      <td>7578289</td>\n",
       "    </tr>\n",
       "    <tr>\n",
       "      <th>10</th>\n",
       "      <td>17</td>\n",
       "      <td>7578371</td>\n",
       "      <td>7578554</td>\n",
       "    </tr>\n",
       "    <tr>\n",
       "      <th>11</th>\n",
       "      <td>17</td>\n",
       "      <td>7579312</td>\n",
       "      <td>7579590</td>\n",
       "    </tr>\n",
       "    <tr>\n",
       "      <th>12</th>\n",
       "      <td>17</td>\n",
       "      <td>7579700</td>\n",
       "      <td>7579721</td>\n",
       "    </tr>\n",
       "    <tr>\n",
       "      <th>13</th>\n",
       "      <td>17</td>\n",
       "      <td>7579839</td>\n",
       "      <td>7579912</td>\n",
       "    </tr>\n",
       "  </tbody>\n",
       "</table>\n",
       "</div>"
      ],
      "text/plain": [
       "    chrom    start      end\n",
       "0      17  7565257  7565332\n",
       "1      17  7569524  7569562\n",
       "2      17  7572927  7573008\n",
       "3      17  7573927  7574033\n",
       "4      17  7576537  7576584\n",
       "5      17  7576625  7576657\n",
       "6      17  7576853  7576926\n",
       "7      17  7577019  7577155\n",
       "8      17  7577499  7577608\n",
       "9      17  7578177  7578289\n",
       "10     17  7578371  7578554\n",
       "11     17  7579312  7579590\n",
       "12     17  7579700  7579721\n",
       "13     17  7579839  7579912"
      ]
     },
     "execution_count": 114,
     "metadata": {},
     "output_type": "execute_result"
    }
   ],
   "source": [
    "merged_exons"
   ]
  },
  {
   "cell_type": "code",
   "execution_count": null,
   "metadata": {
    "collapsed": true
   },
   "outputs": [],
   "source": []
  }
 ],
 "metadata": {
  "kernelspec": {
   "display_name": "Python 3",
   "language": "python",
   "name": "python3"
  },
  "language_info": {
   "codemirror_mode": {
    "name": "ipython",
    "version": 3
   },
   "file_extension": ".py",
   "mimetype": "text/x-python",
   "name": "python",
   "nbconvert_exporter": "python",
   "pygments_lexer": "ipython3",
   "version": "3.6.1"
  }
 },
 "nbformat": 4,
 "nbformat_minor": 2
}
