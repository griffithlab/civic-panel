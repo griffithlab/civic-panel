{
 "cells": [
  {
   "cell_type": "markdown",
   "metadata": {},
   "source": [
    "# Obtain Probes for Selected Variants"
   ]
  },
  {
   "cell_type": "markdown",
   "metadata": {},
   "source": [
    "Welcome to OpenCAP Jupyter Notebooks! Here you can run pre-designed code to generate required documents for custom capture panels. \n",
    "\n",
    "To run a Jupyter notebook cell hold-down on \"shift\" and select \"enter\".\n",
    "\n"
   ]
  },
  {
   "cell_type": "markdown",
   "metadata": {},
   "source": [
    "## Commands to generate probes"
   ]
  },
  {
   "cell_type": "markdown",
   "metadata": {},
   "source": [
    "We have created a python script called CIViC_variants_to_probes.py that will take in variants of interest generated from the CIViC website and turn them into a list of genomic coordinates that require capture. The output from this command can be provided to a commercial entittiy that generate probes for custom capture such as Twist, IDT, etc. "
   ]
  },
  {
   "cell_type": "markdown",
   "metadata": {},
   "source": [
    "Below we have developed a code to turn CIViC variants into regions requiring probe coverage. Before running this cell, please upload your CIViC variants to the home directory (see ReadTheDocs) and change the input variant list name to match your variant list. You can then select on the following cell --> hold \"shift\" --> select \"enter\""
   ]
  },
  {
   "cell_type": "code",
   "execution_count": 16,
   "metadata": {
    "collapsed": true
   },
   "outputs": [],
   "source": [
    "#run command  python code             #input variant list\n",
    "%run -i 'CIViC_variants_to_probes.py' 'test_variants.tsv'"
   ]
  },
  {
   "cell_type": "code",
   "execution_count": null,
   "metadata": {
    "collapsed": true
   },
   "outputs": [],
   "source": []
  }
 ],
 "metadata": {
  "kernelspec": {
   "display_name": "Python 3",
   "language": "python",
   "name": "python3"
  },
  "language_info": {
   "codemirror_mode": {
    "name": "ipython",
    "version": 3
   },
   "file_extension": ".py",
   "mimetype": "text/x-python",
   "name": "python",
   "nbconvert_exporter": "python",
   "pygments_lexer": "ipython3",
   "version": "3.6.1"
  }
 },
 "nbformat": 4,
 "nbformat_minor": 2
}
