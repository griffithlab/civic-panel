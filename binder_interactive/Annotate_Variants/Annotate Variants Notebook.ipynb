{
 "cells": [
  {
   "cell_type": "markdown",
   "metadata": {
    "collapsed": true
   },
   "source": [
    "# Annotate Putative Somatic Variants with CIViC and VEP"
   ]
  },
  {
   "cell_type": "markdown",
   "metadata": {},
   "source": [
    "Welcome back to OpenCAP Jupyter Notebooks! Here you can run pre-designed code to generate an output report for your variants. \n",
    "\n",
    "To run Jupyter notebook cells hold-down on \"shift\" and select \"enter\"."
   ]
  },
  {
   "cell_type": "markdown",
   "metadata": {},
   "source": [
    "## Commands to annotate variants"
   ]
  },
  {
   "cell_type": "markdown",
   "metadata": {},
   "source": [
    "We have created a python script called identified_variants_to_annotation.py that will take in variants from the sequencing pipeline and output a document with annotation information. The output will include variant effect predictions and clinical interpretations of variants in cancer.\n",
    "\n",
    "Before running this cell, please upload your somatic variants to the home directory (see ReadTheDocs) and change the input variant list name to match your somatic variant list. You can run the cell by holding the \"shift\" key and selecting \"enter\"."
   ]
  },
  {
   "cell_type": "code",
   "execution_count": 16,
   "metadata": {},
   "outputs": [
    {
     "name": "stdout",
     "output_type": "stream",
     "text": [
      "Variant annotation has been successfully completed!\n"
     ]
    }
   ],
   "source": [
    "#       #Python Script                         #Input Variant List          #Sample Name\n",
    "%run -i 'identified_variants_to_annotation.py' 'test_annotate_variants.tsv' 'SCLC_9'"
   ]
  },
  {
   "cell_type": "code",
   "execution_count": 3,
   "metadata": {},
   "outputs": [],
   "source": [
    "import sys\n",
    "from docx import Document, oxml, opc\n",
    "from docx.shared import Inches\n",
    "from docx.enum.dml import MSO_THEME_COLOR_INDEX\n",
    "import pandas as pd\n",
    "import datetime\n",
    "import myvariant\n",
    "import requests\n",
    "import warnings\n",
    "warnings.filterwarnings('ignore')"
   ]
  },
  {
   "cell_type": "code",
   "execution_count": 102,
   "metadata": {},
   "outputs": [],
   "source": [
    "mv = myvariant.MyVariantInfo()"
   ]
  },
  {
   "cell_type": "code",
   "execution_count": 103,
   "metadata": {},
   "outputs": [],
   "source": [
    "chrom = '7'\n",
    "start = 140453136\n",
    "ref = 'A'\n",
    "var = 'T'\n",
    "\n",
    "variant = myvariant.format_hgvs(chrom, start, ref, var)"
   ]
  },
  {
   "cell_type": "code",
   "execution_count": 104,
   "metadata": {},
   "outputs": [],
   "source": [
    "directory = mv.getvariant(variant)"
   ]
  },
  {
   "cell_type": "code",
   "execution_count": 119,
   "metadata": {},
   "outputs": [
    {
     "data": {
      "text/plain": [
       "1756"
      ]
     },
     "execution_count": 119,
     "metadata": {},
     "output_type": "execute_result"
    }
   ],
   "source": [
    "directory['civic']['evidence_items'][0]['id']"
   ]
  },
  {
   "cell_type": "code",
   "execution_count": 111,
   "metadata": {},
   "outputs": [
    {
     "data": {
      "text/plain": [
       "{'citation': 'Kaczirek et al., 2015, Clin Colorectal Cancer',\n",
       " 'full_journal_title': 'Clinical colorectal cancer',\n",
       " 'id': 1920,\n",
       " 'is_review': False,\n",
       " 'journal': 'Clin Colorectal Cancer',\n",
       " 'name': 'FOLFOX4 Plus Cetuximab for Patients With Previously Untreated Metastatic Colorectal Cancer According to Tumor RAS and BRAF Mutation Status: Updated Analysis of the CECOG/CORE 1.2.002 Study.',\n",
       " 'publication_date': {'month': 6, 'year': 2015},\n",
       " 'pubmed': 25666295,\n",
       " 'source_url': 'http://www.ncbi.nlm.nih.gov/pubmed/25666295',\n",
       " 'status': 'fully curated'}"
      ]
     },
     "execution_count": 111,
     "metadata": {},
     "output_type": "execute_result"
    }
   ],
   "source": [
    "directory['civic']['evidence_items'][0]['source']"
   ]
  },
  {
   "cell_type": "code",
   "execution_count": null,
   "metadata": {},
   "outputs": [],
   "source": []
  }
 ],
 "metadata": {
  "kernelspec": {
   "display_name": "Python 3",
   "language": "python",
   "name": "python3"
  },
  "language_info": {
   "codemirror_mode": {
    "name": "ipython",
    "version": 3
   },
   "file_extension": ".py",
   "mimetype": "text/x-python",
   "name": "python",
   "nbconvert_exporter": "python",
   "pygments_lexer": "ipython3",
   "version": "3.6.1"
  }
 },
 "nbformat": 4,
 "nbformat_minor": 2
}
