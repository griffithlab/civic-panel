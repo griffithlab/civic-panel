{
 "cells": [
  {
   "cell_type": "markdown",
   "metadata": {
    "collapsed": true
   },
   "source": [
    "# Annotate Putative Somatic Variants with CIViC and VEP"
   ]
  },
  {
   "cell_type": "markdown",
   "metadata": {},
   "source": [
    "Welcome back to OpenCAP Jupyter Notebooks! Here you can run pre-designed code to generate an output report for your variants. \n",
    "\n",
    "To run Jupyter notebook cells hold-down on \"shift\" and select \"enter\"."
   ]
  },
  {
   "cell_type": "markdown",
   "metadata": {},
   "source": [
    "## Commands to annotate variants"
   ]
  },
  {
   "cell_type": "markdown",
   "metadata": {},
   "source": [
    "We have created a python script called identified_variants_to_annotation.py that will take in variants from the sequencing pipeline and output a document with annotation information. The output will include variant effect predictions and clinical interpretations of variants in cancer.\n",
    "\n",
    "Before running this cell, please upload your somatic variants to the home directory (see ReadTheDocs) and change the input variant list name to match your somatic variant list. You can run the cell by holding the \"shift\" key and selecting \"enter\"."
   ]
  },
  {
   "cell_type": "code",
   "execution_count": null,
   "metadata": {
    "collapsed": true
   },
   "outputs": [],
   "source": [
    "#run command  python code             #input variant list\n",
    "%run -i 'identified_variants_to_annotation.py' 'test_annotate_variants.tsv'"
   ]
  },
  {
   "cell_type": "code",
   "execution_count": 19,
   "metadata": {},
   "outputs": [],
   "source": [
    "from docx import Document\n",
    "from docx.shared import Inches\n",
    "import pandas as pd"
   ]
  },
  {
   "cell_type": "code",
   "execution_count": 30,
   "metadata": {
    "collapsed": true
   },
   "outputs": [],
   "source": [
    "sample_name = 'SCLC_5'\n",
    "CIViC_annotation_length = 3"
   ]
  },
  {
   "cell_type": "code",
   "execution_count": 42,
   "metadata": {},
   "outputs": [],
   "source": [
    "CIViC_annotation = pd.DataFrame([['KRAS', 'MUTATION','Supports Resistance to Cetuximab for patients with Colorectal Cancer','CIViC EID6464','PMID:22722830'],\n",
    "                                ['KRAS', 'EXON 2 MUTATION', 'Supports Resistance to EGFR Inhibitor for patients with Colorectal Cancer','CIViC EID1208','PMID:27037411']])\n",
    "CIViC_annotation.columns=['Gene', 'Variant', 'Description', 'CIViC Link', 'PubMedID Link']"
   ]
  },
  {
   "cell_type": "code",
   "execution_count": 46,
   "metadata": {},
   "outputs": [
    {
     "data": {
      "text/html": [
       "<div>\n",
       "<style>\n",
       "    .dataframe thead tr:only-child th {\n",
       "        text-align: right;\n",
       "    }\n",
       "\n",
       "    .dataframe thead th {\n",
       "        text-align: left;\n",
       "    }\n",
       "\n",
       "    .dataframe tbody tr th {\n",
       "        vertical-align: top;\n",
       "    }\n",
       "</style>\n",
       "<table border=\"1\" class=\"dataframe\">\n",
       "  <thead>\n",
       "    <tr style=\"text-align: right;\">\n",
       "      <th></th>\n",
       "      <th>Gene</th>\n",
       "      <th>Variant</th>\n",
       "      <th>Description</th>\n",
       "      <th>CIViC Link</th>\n",
       "      <th>PubMedID Link</th>\n",
       "    </tr>\n",
       "  </thead>\n",
       "  <tbody>\n",
       "    <tr>\n",
       "      <th>0</th>\n",
       "      <td>KRAS</td>\n",
       "      <td>MUTATION</td>\n",
       "      <td>Supports Resistance to Cetuximab for patients ...</td>\n",
       "      <td>CIViC EID6464</td>\n",
       "      <td>PMID:22722830</td>\n",
       "    </tr>\n",
       "    <tr>\n",
       "      <th>1</th>\n",
       "      <td>KRAS</td>\n",
       "      <td>EXON 2 MUTATION</td>\n",
       "      <td>Supports Resistance to EGFR Inhibitor for pati...</td>\n",
       "      <td>CIViC EID1208</td>\n",
       "      <td>PMID:27037411</td>\n",
       "    </tr>\n",
       "  </tbody>\n",
       "</table>\n",
       "</div>"
      ],
      "text/plain": [
       "   Gene          Variant                                        Description  \\\n",
       "0  KRAS         MUTATION  Supports Resistance to Cetuximab for patients ...   \n",
       "1  KRAS  EXON 2 MUTATION  Supports Resistance to EGFR Inhibitor for pati...   \n",
       "\n",
       "      CIViC Link  PubMedID Link  \n",
       "0  CIViC EID6464  PMID:22722830  \n",
       "1  CIViC EID1208  PMID:27037411  "
      ]
     },
     "execution_count": 46,
     "metadata": {},
     "output_type": "execute_result"
    }
   ],
   "source": [
    "CIViC_annotation"
   ]
  },
  {
   "cell_type": "code",
   "execution_count": 45,
   "metadata": {},
   "outputs": [],
   "source": [
    "document = Document()\n",
    "document.add_picture('Extra/report_header.png', width=Inches(6))\n",
    "document.add_heading('SOMATIC VARIANT ANNOTATION', 0)\n",
    "\n",
    "p = document.add_paragraph('')\n",
    "\n",
    "document.add_heading('Variant Effect Predictions', level=1)\n",
    "   \n",
    "p = document.add_paragraph()\n",
    "p.add_run('Sample Name:').bold = True\n",
    "p.add_run(str(sample_name))\n",
    "\n",
    "\n",
    "\n",
    "table = document.add_table(rows=1, cols=3)\n",
    "hdr_cells = table.rows[0].cells\n",
    "hdr_cells[0].text = 'Qty'\n",
    "hdr_cells[1].text = 'Id'\n",
    "hdr_cells[2].text = 'Desc'\n",
    "# for qty, id, desc in records:\n",
    "#     row_cells = table.add_row().cells\n",
    "#     row_cells[0].text = str(qty)\n",
    "#     row_cells[1].text = id\n",
    "#     row_cells[2].text = desc\n",
    "    \n",
    "    \n",
    "document.add_heading('CIViC Variant Annotations', level=1)\n",
    " \n",
    "    \n",
    "table = document.add_table(rows=len(), cols=5)\n",
    "hdr_cells = table.rows[0].cells\n",
    "hdr_cells[0].text = 'Gene'\n",
    "hdr_cells[1].text = 'Variant'\n",
    "hdr_cells[2].text = 'Description'\n",
    "hdr_cells[3].text = 'CIViC Link'\n",
    "hdr_cells[4].text = 'PubMedID Link'\n",
    "for i, row in CIViC_annotation.iterrows():\n",
    "    row_cells = table.add_row().cells\n",
    "    row_cells[0].text = row['Gene']\n",
    "    row_cells[1].text = row['Variant']\n",
    "    row_cells[2].text = row['Description']\n",
    "    row_cells[1].text = row['CIViC Link']\n",
    "    row_cells[2].text = row['PubMedID Link']\n",
    "\n",
    "\n",
    "\n",
    "p = document.add_paragraph('OpenCAP is intended for research use only and clinical applications of subsequent panels designed using the SOP would require further panel validation.')\n",
    "\n",
    "document.save('demo.docx')"
   ]
  },
  {
   "cell_type": "code",
   "execution_count": null,
   "metadata": {
    "collapsed": true
   },
   "outputs": [],
   "source": []
  }
 ],
 "metadata": {
  "kernelspec": {
   "display_name": "Python 3",
   "language": "python",
   "name": "python3"
  },
  "language_info": {
   "codemirror_mode": {
    "name": "ipython",
    "version": 3
   },
   "file_extension": ".py",
   "mimetype": "text/x-python",
   "name": "python",
   "nbconvert_exporter": "python",
   "pygments_lexer": "ipython3",
   "version": "3.6.1"
  }
 },
 "nbformat": 4,
 "nbformat_minor": 2
}
