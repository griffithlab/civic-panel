{
 "cells": [
  {
   "cell_type": "markdown",
   "metadata": {},
   "source": [
    "# Categorize Custom CIViC Variants and Generate Coordiantes"
   ]
  },
  {
   "cell_type": "markdown",
   "metadata": {},
   "source": [
    "Welcome to OpenCAP Jupyter Notebooks! Here you can run pre-designed code to generate required files for custom capture panels. \n",
    "\n",
    "To run Jupyter notebook cells hold-down on \"shift\" and select \"enter\"."
   ]
  },
  {
   "cell_type": "markdown",
   "metadata": {},
   "source": [
    "## Commands to generate probes"
   ]
  },
  {
   "cell_type": "markdown",
   "metadata": {},
   "source": [
    "We have created a python script called CIViC_variants_to_probes.py that will take in variants of interest generated from the CIViC interface and output a list of genomic coordinates that require capture. The output from this command can be provided to a commercial entitiy that generate probes for custom capture.\n",
    "\n",
    "Before running this cell, please upload your CIViC variants to the home directory (see ReadTheDocs) and change the input variant list name to match your variant list. You can run the cell by holding the \"shift\" key and selecting \"enter\"."
   ]
  },
  {
   "cell_type": "code",
   "execution_count": 2,
   "metadata": {
    "collapsed": true
   },
   "outputs": [],
   "source": [
    "#run command  python code             #input variant list\n",
    "%run -i 'CIViC_variants_to_probes.py' 'test_create_variants.tsv'"
   ]
  },
  {
   "cell_type": "code",
   "execution_count": null,
   "metadata": {
    "collapsed": true
   },
   "outputs": [],
   "source": []
  }
 ],
 "metadata": {
  "kernelspec": {
   "display_name": "Python 3",
   "language": "python",
   "name": "python3"
  },
  "language_info": {
   "codemirror_mode": {
    "name": "ipython",
    "version": 3
   },
   "file_extension": ".py",
   "mimetype": "text/x-python",
   "name": "python",
   "nbconvert_exporter": "python",
   "pygments_lexer": "ipython3",
   "version": "3.6.1"
  }
 },
 "nbformat": 4,
 "nbformat_minor": 2
}
