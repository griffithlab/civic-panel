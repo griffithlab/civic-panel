{
 "cells": [
  {
   "cell_type": "markdown",
   "metadata": {},
   "source": [
    "# Results - smMIPs Sequencing and Data Analysis"
   ]
  },
  {
   "cell_type": "markdown",
   "metadata": {},
   "source": [
    "## Tools"
   ]
  },
  {
   "cell_type": "code",
   "execution_count": 1,
   "metadata": {
    "collapsed": true
   },
   "outputs": [],
   "source": [
    "#!/usr/bin/env python3\n",
    "import numpy as np\n",
    "import pandas as pd\n",
    "import seaborn as sns\n",
    "sns.set(style='white')\n",
    "sns.set_context(\"talk\")\n",
    "import matplotlib.pyplot as plt\n",
    "import glob\n",
    "import os\n",
    "import requests"
   ]
  },
  {
   "cell_type": "code",
   "execution_count": 2,
   "metadata": {
    "collapsed": true
   },
   "outputs": [],
   "source": [
    "from pyliftover import LiftOver\n",
    "lo = LiftOver('hg19', 'hg38')\n",
    "li = LiftOver('hg38', 'hg19')"
   ]
  },
  {
   "cell_type": "markdown",
   "metadata": {},
   "source": [
    "## Pull in Input Files"
   ]
  },
  {
   "cell_type": "code",
   "execution_count": 3,
   "metadata": {
    "collapsed": true
   },
   "outputs": [],
   "source": [
    "samples = pd.read_csv('../data/validation_samples/sample_dataframe.txt', sep='\\t')"
   ]
  },
  {
   "cell_type": "code",
   "execution_count": 4,
   "metadata": {
    "collapsed": true
   },
   "outputs": [],
   "source": [
    "samples_QC = pd.read_csv('../data/validation_samples/sequencing_quality_check.txt', sep='\\t')"
   ]
  },
  {
   "cell_type": "code",
   "execution_count": 5,
   "metadata": {
    "collapsed": true
   },
   "outputs": [],
   "source": [
    "overlap_with_smmips = pd.read_csv('../output/variant_overlap.tsv', sep='\\t')"
   ]
  },
  {
   "cell_type": "code",
   "execution_count": 6,
   "metadata": {
    "collapsed": true
   },
   "outputs": [],
   "source": [
    "WEX_variants = pd.read_csv('../data/original_sequencing/VCF_exome.txt', sep='\\t')"
   ]
  },
  {
   "cell_type": "markdown",
   "metadata": {},
   "source": [
    "## Initial Quality Check"
   ]
  },
  {
   "cell_type": "code",
   "execution_count": 7,
   "metadata": {},
   "outputs": [
    {
     "name": "stdout",
     "output_type": "stream",
     "text": [
      "Mean:  5369817.166666667\n",
      "Standard Deviation:  3334506.223398502\n"
     ]
    }
   ],
   "source": [
    "print('Mean: ', samples_QC['total tags weighted'].mean())\n",
    "mean = samples_QC['total tags weighted'].mean()\n",
    "print('Standard Deviation: ', samples_QC['total tags weighted'].std())\n",
    "std = samples_QC['total tags weighted'].std()"
   ]
  },
  {
   "cell_type": "code",
   "execution_count": 8,
   "metadata": {},
   "outputs": [
    {
     "name": "stdout",
     "output_type": "stream",
     "text": [
      "HL_1_normal\n",
      "HL_2_tumor\n",
      "OSCC_2_tumor\n",
      "OSCC_3_tumor\n",
      "OSCC_4_normal\n",
      "SCLC_1_normal\n",
      "SCLC_2_normal\n",
      "SCLC_3_normal\n",
      "SCLC_6_normal\n",
      "SCLC_7_normal\n"
     ]
    }
   ],
   "source": [
    "ineligible_samples = []\n",
    "for i,row in samples_QC.iterrows():\n",
    "    if row['total tags weighted'] < mean - 1*std or row['total unique mips captured'] < 600000:\n",
    "        print(row['count'] + '_' +  row['Type'])\n",
    "        if row['Type'] == 'tumor':\n",
    "            ineligible_samples.append(row['count'] + '_' +  row['Type'])"
   ]
  },
  {
   "cell_type": "code",
   "execution_count": 9,
   "metadata": {},
   "outputs": [
    {
     "name": "stdout",
     "output_type": "stream",
     "text": [
      "Number of elgible Samples:  33\n"
     ]
    }
   ],
   "source": [
    "print('Number of elgible Samples: ', len(samples_QC) - len(ineligible_samples))"
   ]
  },
  {
   "cell_type": "code",
   "execution_count": 10,
   "metadata": {
    "collapsed": true
   },
   "outputs": [],
   "source": [
    "# If tumor is ineligible, eliminate variants for subsequent analysis\n",
    "overlap_with_smmips['Passed QC'] = ''\n",
    "for i,row in overlap_with_smmips.iterrows():\n",
    "    if row['sample'] + '_' +  'tumor' in ineligible_samples:\n",
    "        overlap_with_smmips.loc[[i], 'Passed QC'] = 'no'\n",
    "    else:\n",
    "        overlap_with_smmips.loc[[i], 'Passed QC'] = 'yes'"
   ]
  },
  {
   "cell_type": "code",
   "execution_count": 11,
   "metadata": {},
   "outputs": [
    {
     "name": "stdout",
     "output_type": "stream",
     "text": [
      "Number of Eligible Individuals:  19\n"
     ]
    }
   ],
   "source": [
    "print('Number of Eligible Individuals: ', len(overlap_with_smmips[overlap_with_smmips['Passed QC'] == 'yes'][['sample']].drop_duplicates()))"
   ]
  },
  {
   "cell_type": "code",
   "execution_count": 12,
   "metadata": {},
   "outputs": [
    {
     "name": "stdout",
     "output_type": "stream",
     "text": [
      "Number of Eligible Variants:  65\n"
     ]
    }
   ],
   "source": [
    "print('Number of Eligible Variants: ',overlap_with_smmips[overlap_with_smmips['Passed QC'] == 'yes'].groupby('sample').size().sum())"
   ]
  },
  {
   "cell_type": "code",
   "execution_count": 13,
   "metadata": {
    "collapsed": true
   },
   "outputs": [],
   "source": [
    "overlap_with_smmips.to_csv('../output/variant_overlap2.tsv', sep='\\t')"
   ]
  },
  {
   "cell_type": "markdown",
   "metadata": {},
   "source": [
    "## Accuracy profile of smMIPs CIViC panel when compared to WEX"
   ]
  },
  {
   "cell_type": "markdown",
   "metadata": {},
   "source": [
    " ### Pull in VCF Files"
   ]
  },
  {
   "cell_type": "code",
   "execution_count": 14,
   "metadata": {
    "collapsed": true
   },
   "outputs": [],
   "source": [
    "smmips_variants = pd.DataFrame()"
   ]
  },
  {
   "cell_type": "code",
   "execution_count": 15,
   "metadata": {
    "collapsed": true
   },
   "outputs": [],
   "source": [
    "smmips_variants = pd.DataFrame()\n",
    "for item in glob.glob('../data/smmips_sequencing/*T*.snp.vcf'):\n",
    "    name = item.split('/')[3].split('_')[0] + '_' + item.split('/')[3].split('_')[1]\n",
    "    current = pd.read_csv(item, sep='\\t', comment='#', header=None).filter(items=[0,1,1,3,4,9])\n",
    "    current['sample'] = name\n",
    "    smmips_variants = smmips_variants.append(current)"
   ]
  },
  {
   "cell_type": "code",
   "execution_count": 16,
   "metadata": {
    "collapsed": true
   },
   "outputs": [],
   "source": [
    "for item in glob.glob('../data/smmips_sequencing/*T*.indel.vcf'):\n",
    "    name = item.split('/')[3].split('_')[0] + '_' + item.split('/')[3].split('_')[1]\n",
    "    current = pd.read_csv(item, sep='\\t', comment='#', header=None).filter(items=[0,1,1,3,4,9])\n",
    "    current['sample'] = name\n",
    "    current[1] = current[1] + 1\n",
    "    current[3] = current[3].str[1:].replace('', '-')\n",
    "    current[4] = current[4].str[1:].replace('', '-')\n",
    "    smmips_variants = smmips_variants.append(current)"
   ]
  },
  {
   "cell_type": "code",
   "execution_count": 17,
   "metadata": {
    "collapsed": true
   },
   "outputs": [],
   "source": [
    "smmips_variants.columns = ['chrom', 'start', 'stop', 'reference', 'variant', 'CIViC Panel VAF', 'sample']\n",
    "smmips_variants = smmips_variants.reset_index()"
   ]
  },
  {
   "cell_type": "code",
   "execution_count": 18,
   "metadata": {},
   "outputs": [
    {
     "name": "stdout",
     "output_type": "stream",
     "text": [
      "Average coverage for smMIPs variants is: 2942.88059701\n",
      "Standard deviation for coverage of smMIPs variants is: 4697.31845168\n"
     ]
    }
   ],
   "source": [
    "CIViC_smMIPs_average = []\n",
    "for i,row in smmips_variants.iterrows():\n",
    "    if len(str(row['CIViC Panel VAF']).split(':')) > 5:\n",
    "        coverage = str(row['CIViC Panel VAF']).split(':')[6]\n",
    "        CIViC_smMIPs_average.append(int(coverage))\n",
    "print('Average coverage for smMIPs variants is:', np.mean(CIViC_smMIPs_average))\n",
    "print('Standard deviation for coverage of smMIPs variants is:', np.std(CIViC_smMIPs_average))"
   ]
  },
  {
   "cell_type": "code",
   "execution_count": 19,
   "metadata": {
    "collapsed": true
   },
   "outputs": [],
   "source": [
    "for i,row in smmips_variants.iterrows():\n",
    "    VAF = float(str(row['CIViC Panel VAF']).split(':')[-1])*100\n",
    "    smmips_variants.loc[[i], 'CIViC Panel VAF'] = VAF"
   ]
  },
  {
   "cell_type": "code",
   "execution_count": 20,
   "metadata": {
    "collapsed": true
   },
   "outputs": [],
   "source": [
    "overlap_with_smmips = overlap_with_smmips.merge(smmips_variants, on=['chrom', 'start','sample'], how='left')"
   ]
  },
  {
   "cell_type": "code",
   "execution_count": 21,
   "metadata": {
    "collapsed": true
   },
   "outputs": [],
   "source": [
    "overlap_with_smmips['CIViC Panel VAF'] = overlap_with_smmips['CIViC Panel VAF'].replace(np.nan, 0)\n",
    "overlap_with_smmips['CIViC Panel VAF'] = overlap_with_smmips['CIViC Panel VAF'].astype('float')"
   ]
  },
  {
   "cell_type": "code",
   "execution_count": 22,
   "metadata": {
    "collapsed": true
   },
   "outputs": [],
   "source": [
    "overlap_with_smmips = overlap_with_smmips.drop(['reference_y', 'stop_x', 'stop_y', 'variant_y', 'index'], axis=1)"
   ]
  },
  {
   "cell_type": "code",
   "execution_count": 23,
   "metadata": {},
   "outputs": [
    {
     "name": "stdout",
     "output_type": "stream",
     "text": [
      "Total eligible variants:  65\n",
      "Total eligible overlap with smMIPs:  61\n"
     ]
    }
   ],
   "source": [
    "print('Total eligible variants: ', len(overlap_with_smmips[overlap_with_smmips['Passed QC'] == 'yes']))\n",
    "print('Total eligible overlap with smMIPs: ', len(overlap_with_smmips[(overlap_with_smmips['CIViC Panel VAF'] > 0) & (overlap_with_smmips['Passed QC'] == 'yes')]))"
   ]
  },
  {
   "cell_type": "code",
   "execution_count": 24,
   "metadata": {
    "collapsed": true
   },
   "outputs": [],
   "source": [
    "overlap_with_smmips = overlap_with_smmips.drop(['Unnamed: 0'], axis=1)"
   ]
  },
  {
   "cell_type": "markdown",
   "metadata": {},
   "source": [
    "### Build Waterfall Dataframe "
   ]
  },
  {
   "cell_type": "code",
   "execution_count": 24,
   "metadata": {
    "collapsed": true
   },
   "outputs": [],
   "source": [
    "samples_waterfall = overlap_with_smmips[overlap_with_smmips['Passed QC'] == 'yes']"
   ]
  },
  {
   "cell_type": "code",
   "execution_count": 25,
   "metadata": {
    "collapsed": true
   },
   "outputs": [],
   "source": [
    "# Make dataframe for WaterFall plot (Figure 1)\n",
    "samples_waterfall = samples_waterfall.filter(items=['sample', 'gene_name', 'amino_acid', 'VAF', 'CIViC Panel VAF'])\n",
    "samples_waterfall['Validated'] = (samples_waterfall['CIViC Panel VAF'] > 0).astype('int')\n",
    "\n",
    "samples_waterfall.to_csv('../data/smMIPs_waterfall/waterfall_dataframe.tsv', sep='\\t')"
   ]
  },
  {
   "cell_type": "markdown",
   "metadata": {},
   "source": [
    "## Variant allele frequency correlation between  smMIPs CIViC panel and exome/genome sequencing"
   ]
  },
  {
   "cell_type": "code",
   "execution_count": 69,
   "metadata": {
    "collapsed": true
   },
   "outputs": [],
   "source": [
    "palette_color ={\"yes\":\"#182C61\",\"no\":\"#D9B08C\",True:\"#182C61\", False:\"#D9B08C\", \n",
    "                'OSCC':'#2F4454', 'SCLC':'#2E151B', 'CRC':'#DA7B93', 'AML':'#376E6F', 'HL':'#1C3334',\n",
    "               '100ng':'#2F4454', '250ng':'#2E151B', '500ng':'#DA7B93',\n",
    "               '0X':'#D7E2E2','0-100X':'#87A8A9','100-250X':'#376E6F','250-500X':'#1C3738','500-1,000X':'#0E1C1C', '>1,000X':'#000000'}"
   ]
  },
  {
   "cell_type": "code",
   "execution_count": 70,
   "metadata": {},
   "outputs": [
    {
     "name": "stdout",
     "output_type": "stream",
     "text": [
      "Variants obtained from samples that failed CIViC smMIPs capture panel: 19\n"
     ]
    }
   ],
   "source": [
    "print('Variants obtained from samples that failed CIViC smMIPs capture panel:', len(overlap_with_smmips[overlap_with_smmips['Passed QC'] == 'no']))"
   ]
  },
  {
   "cell_type": "code",
   "execution_count": 71,
   "metadata": {
    "collapsed": true
   },
   "outputs": [],
   "source": [
    "sample_info = pd.read_csv('../data/validation_samples/sample_dataframe.txt', sep='\\t')"
   ]
  },
  {
   "cell_type": "code",
   "execution_count": 72,
   "metadata": {
    "collapsed": true
   },
   "outputs": [],
   "source": [
    "correlation = overlap_with_smmips[(overlap_with_smmips['CIViC Panel VAF'] != 0) & (overlap_with_smmips['VAF'] != 0)]"
   ]
  },
  {
   "cell_type": "code",
   "execution_count": 73,
   "metadata": {},
   "outputs": [
    {
     "name": "stdout",
     "output_type": "stream",
     "text": [
      "Variants in correlation: 61\n"
     ]
    },
    {
     "data": {
      "text/html": [
       "<div>\n",
       "<style>\n",
       "    .dataframe thead tr:only-child th {\n",
       "        text-align: right;\n",
       "    }\n",
       "\n",
       "    .dataframe thead th {\n",
       "        text-align: left;\n",
       "    }\n",
       "\n",
       "    .dataframe tbody tr th {\n",
       "        vertical-align: top;\n",
       "    }\n",
       "</style>\n",
       "<table border=\"1\" class=\"dataframe\">\n",
       "  <thead>\n",
       "    <tr style=\"text-align: right;\">\n",
       "      <th></th>\n",
       "      <th>CIViC Panel VAF</th>\n",
       "      <th>VAF</th>\n",
       "    </tr>\n",
       "  </thead>\n",
       "  <tbody>\n",
       "    <tr>\n",
       "      <th>CIViC Panel VAF</th>\n",
       "      <td>1.0000</td>\n",
       "      <td>0.8851</td>\n",
       "    </tr>\n",
       "    <tr>\n",
       "      <th>VAF</th>\n",
       "      <td>0.8851</td>\n",
       "      <td>1.0000</td>\n",
       "    </tr>\n",
       "  </tbody>\n",
       "</table>\n",
       "</div>"
      ],
      "text/plain": [
       "                 CIViC Panel VAF     VAF\n",
       "CIViC Panel VAF           1.0000  0.8851\n",
       "VAF                       0.8851  1.0000"
      ]
     },
     "execution_count": 73,
     "metadata": {},
     "output_type": "execute_result"
    }
   ],
   "source": [
    "print('Variants in correlation:', len(correlation))\n",
    "pd.DataFrame.corr(correlation.filter(items=['CIViC Panel VAF', 'VAF']),method='pearson')"
   ]
  },
  {
   "cell_type": "code",
   "execution_count": 74,
   "metadata": {
    "collapsed": true
   },
   "outputs": [],
   "source": [
    "overlap_with_smmips_data = overlap_with_smmips.merge(sample_info, right_on='Sample', left_on='sample')"
   ]
  },
  {
   "cell_type": "code",
   "execution_count": 75,
   "metadata": {
    "collapsed": true
   },
   "outputs": [],
   "source": [
    "overlap_with_smmips_data['Status'] = overlap_with_smmips_data['CIViC Panel VAF'] > 0"
   ]
  },
  {
   "cell_type": "code",
   "execution_count": 76,
   "metadata": {
    "collapsed": true
   },
   "outputs": [],
   "source": [
    "plt.figure(figsize=(5,5))\n",
    "overlap_with_smmips_data = overlap_with_smmips_data.rename(columns={'Passed QC':'Sequencing Status'})\n",
    "sns.scatterplot(x=\"VAF\", y=\"CIViC Panel VAF\", data=overlap_with_smmips_data, alpha=0.8, hue='Sequencing Status', palette=palette_color)\n",
    "plt.xlabel('Original VAF')\n",
    "plt.ylabel('CIViC smMIPs VAF')\n",
    "plt.legend(bbox_to_anchor=(1.05, 1), loc=2, borderaxespad=0.)\n",
    "plt.savefig('../data/Figures/VAF_correlation_PassedQC.pdf', bbox_inches='tight', dpi=400)\n",
    "# plt.show()\n",
    "plt.close()"
   ]
  },
  {
   "cell_type": "code",
   "execution_count": 77,
   "metadata": {
    "collapsed": true
   },
   "outputs": [],
   "source": [
    "overlap_with_smmips_data_PASSED = overlap_with_smmips_data[overlap_with_smmips_data['Sequencing Status'] == 'yes']"
   ]
  },
  {
   "cell_type": "code",
   "execution_count": 89,
   "metadata": {},
   "outputs": [
    {
     "name": "stderr",
     "output_type": "stream",
     "text": [
      "/Users/ebarnell/anaconda3/lib/python3.6/site-packages/ipykernel_launcher.py:1: SettingWithCopyWarning: \n",
      "A value is trying to be set on a copy of a slice from a DataFrame\n",
      "\n",
      "See the caveats in the documentation: http://pandas.pydata.org/pandas-docs/stable/indexing.html#indexing-view-versus-copy\n",
      "  \"\"\"Entry point for launching an IPython kernel.\n"
     ]
    }
   ],
   "source": [
    "overlap_with_smmips_data_PASSED.drop(56, inplace=True)"
   ]
  },
  {
   "cell_type": "code",
   "execution_count": 90,
   "metadata": {},
   "outputs": [
    {
     "data": {
      "text/html": [
       "<div>\n",
       "<style>\n",
       "    .dataframe thead tr:only-child th {\n",
       "        text-align: right;\n",
       "    }\n",
       "\n",
       "    .dataframe thead th {\n",
       "        text-align: left;\n",
       "    }\n",
       "\n",
       "    .dataframe tbody tr th {\n",
       "        vertical-align: top;\n",
       "    }\n",
       "</style>\n",
       "<table border=\"1\" class=\"dataframe\">\n",
       "  <thead>\n",
       "    <tr style=\"text-align: right;\">\n",
       "      <th></th>\n",
       "      <th>chrom</th>\n",
       "      <th>start</th>\n",
       "      <th>reference_x</th>\n",
       "      <th>variant_x</th>\n",
       "      <th>sample</th>\n",
       "      <th>type</th>\n",
       "      <th>gene_name</th>\n",
       "      <th>genome</th>\n",
       "      <th>strand</th>\n",
       "      <th>trv_type</th>\n",
       "      <th>...</th>\n",
       "      <th>Coverage</th>\n",
       "      <th>VAF</th>\n",
       "      <th>Sequencing Status</th>\n",
       "      <th>CIViC Panel VAF</th>\n",
       "      <th>Sample</th>\n",
       "      <th>Mass</th>\n",
       "      <th>Tumor Type</th>\n",
       "      <th>Sample Type</th>\n",
       "      <th>Matched Normal</th>\n",
       "      <th>Status</th>\n",
       "    </tr>\n",
       "  </thead>\n",
       "  <tbody>\n",
       "    <tr>\n",
       "      <th>55</th>\n",
       "      <td>chr17</td>\n",
       "      <td>7577094</td>\n",
       "      <td>C</td>\n",
       "      <td>T</td>\n",
       "      <td>CRC_5</td>\n",
       "      <td>NaN</td>\n",
       "      <td>TP53</td>\n",
       "      <td>37</td>\n",
       "      <td>NaN</td>\n",
       "      <td>NaN</td>\n",
       "      <td>...</td>\n",
       "      <td>458</td>\n",
       "      <td>47.0</td>\n",
       "      <td>yes</td>\n",
       "      <td>52.130045</td>\n",
       "      <td>CRC_5</td>\n",
       "      <td>250ng</td>\n",
       "      <td>CRC</td>\n",
       "      <td>tumor</td>\n",
       "      <td>no</td>\n",
       "      <td>True</td>\n",
       "    </tr>\n",
       "    <tr>\n",
       "      <th>57</th>\n",
       "      <td>chr4</td>\n",
       "      <td>106164902</td>\n",
       "      <td>C</td>\n",
       "      <td>T</td>\n",
       "      <td>CRC_5</td>\n",
       "      <td>NaN</td>\n",
       "      <td>TET2</td>\n",
       "      <td>37</td>\n",
       "      <td>NaN</td>\n",
       "      <td>NaN</td>\n",
       "      <td>...</td>\n",
       "      <td>341</td>\n",
       "      <td>36.0</td>\n",
       "      <td>yes</td>\n",
       "      <td>38.509317</td>\n",
       "      <td>CRC_5</td>\n",
       "      <td>250ng</td>\n",
       "      <td>CRC</td>\n",
       "      <td>tumor</td>\n",
       "      <td>no</td>\n",
       "      <td>True</td>\n",
       "    </tr>\n",
       "  </tbody>\n",
       "</table>\n",
       "<p>2 rows × 28 columns</p>\n",
       "</div>"
      ],
      "text/plain": [
       "    chrom      start reference_x variant_x sample type gene_name  genome  \\\n",
       "55  chr17    7577094           C         T  CRC_5  NaN      TP53      37   \n",
       "57   chr4  106164902           C         T  CRC_5  NaN      TET2      37   \n",
       "\n",
       "    strand trv_type   ...   Coverage   VAF Sequencing Status  CIViC Panel VAF  \\\n",
       "55     NaN      NaN   ...        458  47.0               yes        52.130045   \n",
       "57     NaN      NaN   ...        341  36.0               yes        38.509317   \n",
       "\n",
       "    Sample   Mass  Tumor Type  Sample Type  Matched Normal  Status  \n",
       "55   CRC_5  250ng         CRC        tumor              no    True  \n",
       "57   CRC_5  250ng         CRC        tumor              no    True  \n",
       "\n",
       "[2 rows x 28 columns]"
      ]
     },
     "execution_count": 90,
     "metadata": {},
     "output_type": "execute_result"
    }
   ],
   "source": [
    "overlap_with_smmips_data_PASSED[overlap_with_smmips_data_PASSED['Sample'] == 'CRC_5']"
   ]
  },
  {
   "cell_type": "code",
   "execution_count": 92,
   "metadata": {
    "collapsed": true
   },
   "outputs": [],
   "source": [
    "plt.figure(figsize=(5,5))\n",
    "overlap_with_smmips_data_PASSED = overlap_with_smmips_data_PASSED.rename(columns={'Status':'Validation Status'})\n",
    "\n",
    "sns.scatterplot(x=\"VAF\", y=\"CIViC Panel VAF\", data=overlap_with_smmips_data_PASSED, alpha=0.8, hue='Validation Status', palette=palette_color)\n",
    "plt.xlabel('Original VAF')\n",
    "plt.ylabel('CIViC smMIPs VAF')\n",
    "plt.legend(bbox_to_anchor=(1.05, 1), loc=2, borderaxespad=0.)\n",
    "plt.savefig('../data/Figures/VAF_correlation_Status.pdf', bbox_inches='tight', dpi=400)\n",
    "# plt.show()\n",
    "plt.close()"
   ]
  },
  {
   "cell_type": "code",
   "execution_count": 93,
   "metadata": {
    "collapsed": true
   },
   "outputs": [],
   "source": [
    "plt.figure(figsize=(5,5))\n",
    "sns.scatterplot(x=\"VAF\", y=\"CIViC Panel VAF\", data=overlap_with_smmips_data_PASSED, alpha=0.8, hue='sample')\n",
    "plt.xlabel('Original VAF')\n",
    "plt.ylabel('CIViC smMIPs VAF')\n",
    "plt.legend(bbox_to_anchor=(1.05, 1), loc=2, borderaxespad=0.)\n",
    "plt.savefig('../data/Figures/VAF_correlation_Sample.pdf', bbox_inches='tight', dpi=400)\n",
    "# plt.show()\n",
    "plt.close()"
   ]
  },
  {
   "cell_type": "code",
   "execution_count": 94,
   "metadata": {
    "collapsed": true
   },
   "outputs": [],
   "source": [
    "plt.figure(figsize=(5,5))\n",
    "sns.scatterplot(x=\"VAF\", y=\"CIViC Panel VAF\", data=overlap_with_smmips_data_PASSED, alpha=0.8, hue='Matched Normal', palette=palette_color)\n",
    "plt.xlabel('Original VAF')\n",
    "plt.ylabel('CIViC smMIPs VAF')\n",
    "plt.legend(bbox_to_anchor=(1.05, 1), loc=2, borderaxespad=0.)\n",
    "plt.savefig('../data/Figures/VAF_correlation_MatchedNormal.pdf', bbox_inches='tight', dpi=400)\n",
    "# plt.show()\n",
    "plt.close()"
   ]
  },
  {
   "cell_type": "code",
   "execution_count": 95,
   "metadata": {
    "collapsed": true
   },
   "outputs": [],
   "source": [
    "plt.figure(figsize=(5,5))\n",
    "sns.scatterplot(x=\"VAF\", y=\"CIViC Panel VAF\", data=overlap_with_smmips_data_PASSED, alpha=0.8, hue='Mass', palette=palette_color)\n",
    "plt.xlabel('Original VAF')\n",
    "plt.ylabel('CIViC smMIPs VAF')\n",
    "plt.legend(bbox_to_anchor=(1.05, 1), loc=2, borderaxespad=0.)\n",
    "plt.savefig('../data/Figures/VAF_correlation_Mass.pdf', bbox_inches='tight', dpi=400)\n",
    "# plt.show()\n",
    "plt.close()"
   ]
  },
  {
   "cell_type": "code",
   "execution_count": 96,
   "metadata": {
    "collapsed": true
   },
   "outputs": [],
   "source": [
    "def avg_coverage (row):\n",
    "    if row['Coverage'] == 0 :\n",
    "        return '0X'\n",
    "    if row['Coverage'] > 0 and row['Coverage'] < 100:\n",
    "        return '0-100X'\n",
    "    if row['Coverage'] >= 100 and row['Coverage'] < 250:\n",
    "        return '100-250X'\n",
    "    if row['Coverage'] >= 250 and row['Coverage'] < 500:\n",
    "        return '250-500X'\n",
    "    if row['Coverage'] >= 500 and row['Coverage'] < 1000:\n",
    "        return '500-1,000X'\n",
    "    if row['Coverage'] >= 1000:\n",
    "        return '>1,000X'"
   ]
  },
  {
   "cell_type": "code",
   "execution_count": 97,
   "metadata": {
    "collapsed": true
   },
   "outputs": [],
   "source": [
    "overlap_with_smmips_data_PASSED['Average Coverage'] = overlap_with_smmips_data_PASSED.apply(lambda row: avg_coverage (row),axis=1)"
   ]
  },
  {
   "cell_type": "code",
   "execution_count": 98,
   "metadata": {
    "collapsed": true
   },
   "outputs": [],
   "source": [
    "plt.figure(figsize=(5,5))\n",
    "sns.scatterplot(x=\"VAF\", y=\"CIViC Panel VAF\", data=overlap_with_smmips_data_PASSED, alpha=0.8, palette=palette_color, hue='Average Coverage', \n",
    "                hue_order=['0X','0-100X','100-250X','250-500X','500-1,000X', '>1,000X'])\n",
    "plt.xlabel('Original VAF')\n",
    "plt.ylabel('CIViC smMIPs VAF')\n",
    "plt.legend(bbox_to_anchor=(1.05, 1), loc=2, borderaxespad=0.)\n",
    "plt.savefig('../data/Figures/VAF_correlation_Coverage.pdf', bbox_inches='tight', dpi=400)\n",
    "# plt.show()\n",
    "plt.close()"
   ]
  },
  {
   "cell_type": "code",
   "execution_count": 99,
   "metadata": {
    "collapsed": true
   },
   "outputs": [],
   "source": [
    "plt.figure(figsize=(5,5))\n",
    "sns.scatterplot(x=\"VAF\", y=\"CIViC Panel VAF\", data=overlap_with_smmips_data_PASSED, alpha=0.8, hue='Tumor Type', palette=palette_color)\n",
    "plt.legend(bbox_to_anchor=(1.05, 1), loc=2, borderaxespad=0.)\n",
    "plt.xlabel('Original VAF')\n",
    "plt.ylabel('CIViC smMIPs VAF')\n",
    "plt.savefig('../data/Figures/VAF_correlation_TumorType.pdf', bbox_inches='tight', dpi=400)\n",
    "# plt.show()\n",
    "plt.close()"
   ]
  },
  {
   "cell_type": "code",
   "execution_count": null,
   "metadata": {
    "collapsed": true
   },
   "outputs": [],
   "source": [
    "import scipy.stats as ss"
   ]
  },
  {
   "cell_type": "code",
   "execution_count": null,
   "metadata": {
    "collapsed": true
   },
   "outputs": [],
   "source": [
    "n = 100\n",
    "p = .01\n",
    "hh = ss.binom(n, p)"
   ]
  },
  {
   "cell_type": "code",
   "execution_count": null,
   "metadata": {
    "collapsed": true
   },
   "outputs": [],
   "source": [
    "hh.pmf(3)"
   ]
  },
  {
   "cell_type": "code",
   "execution_count": null,
   "metadata": {
    "collapsed": true
   },
   "outputs": [],
   "source": []
  }
 ],
 "metadata": {
  "kernelspec": {
   "display_name": "Python 3",
   "language": "python",
   "name": "python3"
  },
  "language_info": {
   "codemirror_mode": {
    "name": "ipython",
    "version": 3
   },
   "file_extension": ".py",
   "mimetype": "text/x-python",
   "name": "python",
   "nbconvert_exporter": "python",
   "pygments_lexer": "ipython3",
   "version": "3.6.1"
  }
 },
 "nbformat": 4,
 "nbformat_minor": 2
}
